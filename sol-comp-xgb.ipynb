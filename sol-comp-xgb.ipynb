{
 "cells": [
  {
   "cell_type": "markdown",
   "metadata": {
    "collapsed": true
   },
   "source": [
    "## RIESGO CREDITICIO\n",
    "\n",
    "## Serv comp S.A."
   ]
  },
  {
   "cell_type": "markdown",
   "metadata": {},
   "source": [
    "### Introducción"
   ]
  },
  {
   "cell_type": "markdown",
   "metadata": {},
   "source": [
    "Construir un modelo de Machine Learning natural capaz de predecir la probabilidad de cumplimiento de pago.\n",
    "\n",
    "EL Objetivo es crear un modelo basado en machine learning capaz de identificar el comportamiento financiero del asociado de negocio, permitiendo una probabilidad de cumplimiento o incumplimiento del crédito."
   ]
  },
  {
   "cell_type": "markdown",
   "metadata": {},
   "source": [
    "<hr>"
   ]
  },
  {
   "cell_type": "markdown",
   "metadata": {},
   "source": [
    "### Instalación de Librerias"
   ]
  },
  {
   "cell_type": "code",
   "execution_count": 8,
   "metadata": {},
   "outputs": [
    {
     "name": "stdout",
     "output_type": "stream",
     "text": [
      "Requirement already up-to-date: scikit-learn==0.20.3 in /opt/conda/envs/Python36/lib/python3.6/site-packages (0.20.3)\r\n",
      "Requirement already satisfied, skipping upgrade: scipy>=0.13.3 in /opt/conda/envs/Python36/lib/python3.6/site-packages (from scikit-learn==0.20.3) (1.2.0)\r\n",
      "Requirement already satisfied, skipping upgrade: numpy>=1.8.2 in /opt/conda/envs/Python36/lib/python3.6/site-packages (from scikit-learn==0.20.3) (1.15.4)\r\n"
     ]
    }
   ],
   "source": [
    "!pip install scikit-learn==0.20.3 --upgrade"
   ]
  },
  {
   "cell_type": "code",
   "execution_count": 9,
   "metadata": {},
   "outputs": [
    {
     "name": "stdout",
     "output_type": "stream",
     "text": [
      "Requirement already up-to-date: xgboost==0.71 in /opt/conda/envs/Python36/lib/python3.6/site-packages (0.71)\r\n",
      "Requirement already satisfied, skipping upgrade: numpy in /opt/conda/envs/Python36/lib/python3.6/site-packages (from xgboost==0.71) (1.15.4)\r\n",
      "Requirement already satisfied, skipping upgrade: scipy in /opt/conda/envs/Python36/lib/python3.6/site-packages (from xgboost==0.71) (1.2.0)\r\n"
     ]
    }
   ],
   "source": [
    "# Si desea utilizar la biblioteca ** xgboost **, instale la versión 0.71.\n",
    "!pip install xgboost==0.71 --upgrade"
   ]
  },
  {
   "cell_type": "code",
   "execution_count": 1,
   "metadata": {},
   "outputs": [],
   "source": [
    "import json\n",
    "import requests\n",
    "import pandas as pd\n",
    "import numpy as np\n",
    "from scipy import stats\n",
    "from datetime import datetime\n",
    "from sklearn import preprocessing\n",
    "from sklearn.model_selection import KFold\n",
    "from sklearn.impute import SimpleImputer\n",
    "from sklearn.model_selection import train_test_split\n",
    "from sklearn.pipeline import Pipeline\n",
    "import matplotlib.pyplot as plt\n",
    "import seaborn as sns\n"
   ]
  },
  {
   "cell_type": "markdown",
   "metadata": {},
   "source": [
    "### Descargando el dataset csv desde Github"
   ]
  },
  {
   "cell_type": "code",
   "execution_count": 2,
   "metadata": {
    "scrolled": true
   },
   "outputs": [
    {
     "name": "stderr",
     "output_type": "stream",
     "text": [
      "\"wget\" no se reconoce como un comando interno o externo,\n",
      "programa o archivo por lotes ejecutable.\n"
     ]
    }
   ],
   "source": [
    "#!wget --no-check-certificate --content-disposition https://raw.githubusercontent.com/vanderlei-test/dataset/master/reto-4-compu-train.csv"
   ]
  },
  {
   "cell_type": "code",
   "execution_count": 3,
   "metadata": {},
   "outputs": [],
   "source": [
    "#url=\"https://raw.githubusercontent.com/vanderlei-test/dataset/master/reto-4-compu-train.csv\""
   ]
  },
  {
   "cell_type": "code",
   "execution_count": 7,
   "metadata": {},
   "outputs": [],
   "source": [
    "ruta= \"D:/projects/Sol_comp-credito/dataset-master/sol-comp.csv\""
   ]
  },
  {
   "cell_type": "code",
   "execution_count": 8,
   "metadata": {},
   "outputs": [
    {
     "data": {
      "text/html": [
       "<div>\n",
       "<style scoped>\n",
       "    .dataframe tbody tr th:only-of-type {\n",
       "        vertical-align: middle;\n",
       "    }\n",
       "\n",
       "    .dataframe tbody tr th {\n",
       "        vertical-align: top;\n",
       "    }\n",
       "\n",
       "    .dataframe thead th {\n",
       "        text-align: right;\n",
       "    }\n",
       "</style>\n",
       "<table border=\"1\" class=\"dataframe\">\n",
       "  <thead>\n",
       "    <tr style=\"text-align: right;\">\n",
       "      <th></th>\n",
       "      <th>EFECTIVO</th>\n",
       "      <th>CXC</th>\n",
       "      <th>INVENTARIO</th>\n",
       "      <th>EQ_OFICINA</th>\n",
       "      <th>EQ_TRANSPORTE</th>\n",
       "      <th>TERRENOS_Y_CONSTRUCCIONES</th>\n",
       "      <th>CXP</th>\n",
       "      <th>CONTRIBUCIONES_X_PAGAR</th>\n",
       "      <th>ANTICIPOS_CTE</th>\n",
       "      <th>CAP_SOCIAL</th>\n",
       "      <th>UTILIDADES_ACUMULADAS</th>\n",
       "      <th>UTILIDAD_O_PERDIDA</th>\n",
       "      <th>TOTAL_VENTAS</th>\n",
       "      <th>TOTAL_COMPRAS</th>\n",
       "      <th>UTILIDAD_BRUTA</th>\n",
       "      <th>TOTAL_GASTOS</th>\n",
       "      <th>OBJETIVO</th>\n",
       "    </tr>\n",
       "  </thead>\n",
       "  <tbody>\n",
       "    <tr>\n",
       "      <th>0</th>\n",
       "      <td>NaN</td>\n",
       "      <td>7.710800e+06</td>\n",
       "      <td>NaN</td>\n",
       "      <td>1.237449e+06</td>\n",
       "      <td>2.947057e+05</td>\n",
       "      <td>8.812520e+06</td>\n",
       "      <td>4.547214e+07</td>\n",
       "      <td>239671.50090</td>\n",
       "      <td>1.257907e+06</td>\n",
       "      <td>2356497.733</td>\n",
       "      <td>-6.009930e+06</td>\n",
       "      <td>-6.816681e+06</td>\n",
       "      <td>41309820.53</td>\n",
       "      <td>6.872572e+07</td>\n",
       "      <td>6298390.104</td>\n",
       "      <td>1.505762e+07</td>\n",
       "      <td>Aceptado</td>\n",
       "    </tr>\n",
       "    <tr>\n",
       "      <th>1</th>\n",
       "      <td>7.437098e+04</td>\n",
       "      <td>2.213116e+06</td>\n",
       "      <td>NaN</td>\n",
       "      <td>1.335531e+05</td>\n",
       "      <td>4.000109e+05</td>\n",
       "      <td>8.491851e+06</td>\n",
       "      <td>1.573254e+07</td>\n",
       "      <td>94809.20697</td>\n",
       "      <td>6.708985e+05</td>\n",
       "      <td>NaN</td>\n",
       "      <td>-7.980962e+06</td>\n",
       "      <td>-3.342452e+06</td>\n",
       "      <td>NaN</td>\n",
       "      <td>3.588274e+07</td>\n",
       "      <td>NaN</td>\n",
       "      <td>1.085156e+07</td>\n",
       "      <td>Aceptado</td>\n",
       "    </tr>\n",
       "    <tr>\n",
       "      <th>2</th>\n",
       "      <td>5.269987e+06</td>\n",
       "      <td>2.893119e+07</td>\n",
       "      <td>3.983352e+05</td>\n",
       "      <td>1.533061e+07</td>\n",
       "      <td>3.478673e+06</td>\n",
       "      <td>-1.393229e+07</td>\n",
       "      <td>NaN</td>\n",
       "      <td>610814.63990</td>\n",
       "      <td>1.009937e+07</td>\n",
       "      <td>1444426.243</td>\n",
       "      <td>NaN</td>\n",
       "      <td>-4.026344e+06</td>\n",
       "      <td>NaN</td>\n",
       "      <td>3.292337e+08</td>\n",
       "      <td>NaN</td>\n",
       "      <td>8.680735e+06</td>\n",
       "      <td>Sospechoso</td>\n",
       "    </tr>\n",
       "    <tr>\n",
       "      <th>3</th>\n",
       "      <td>9.092134e+05</td>\n",
       "      <td>1.145092e+07</td>\n",
       "      <td>9.577823e+06</td>\n",
       "      <td>1.068692e+06</td>\n",
       "      <td>1.302021e+06</td>\n",
       "      <td>1.379064e+06</td>\n",
       "      <td>NaN</td>\n",
       "      <td>NaN</td>\n",
       "      <td>2.378928e+06</td>\n",
       "      <td>1236065.779</td>\n",
       "      <td>NaN</td>\n",
       "      <td>-4.567435e+06</td>\n",
       "      <td>76310275.60</td>\n",
       "      <td>NaN</td>\n",
       "      <td>NaN</td>\n",
       "      <td>1.323267e+07</td>\n",
       "      <td>Aceptado</td>\n",
       "    </tr>\n",
       "    <tr>\n",
       "      <th>4</th>\n",
       "      <td>9.688669e+05</td>\n",
       "      <td>8.539206e+06</td>\n",
       "      <td>3.898283e+06</td>\n",
       "      <td>4.168733e+05</td>\n",
       "      <td>NaN</td>\n",
       "      <td>-6.297179e+05</td>\n",
       "      <td>7.620711e+06</td>\n",
       "      <td>116647.73960</td>\n",
       "      <td>1.798065e+06</td>\n",
       "      <td>3657339.603</td>\n",
       "      <td>7.702845e+05</td>\n",
       "      <td>-7.110320e+05</td>\n",
       "      <td>62901614.29</td>\n",
       "      <td>3.614260e+07</td>\n",
       "      <td>6850340.403</td>\n",
       "      <td>1.100048e+07</td>\n",
       "      <td>Aceptado</td>\n",
       "    </tr>\n",
       "  </tbody>\n",
       "</table>\n",
       "</div>"
      ],
      "text/plain": [
       "       EFECTIVO           CXC    INVENTARIO    EQ_OFICINA  EQ_TRANSPORTE  \\\n",
       "0           NaN  7.710800e+06           NaN  1.237449e+06   2.947057e+05   \n",
       "1  7.437098e+04  2.213116e+06           NaN  1.335531e+05   4.000109e+05   \n",
       "2  5.269987e+06  2.893119e+07  3.983352e+05  1.533061e+07   3.478673e+06   \n",
       "3  9.092134e+05  1.145092e+07  9.577823e+06  1.068692e+06   1.302021e+06   \n",
       "4  9.688669e+05  8.539206e+06  3.898283e+06  4.168733e+05            NaN   \n",
       "\n",
       "   TERRENOS_Y_CONSTRUCCIONES           CXP  CONTRIBUCIONES_X_PAGAR  \\\n",
       "0               8.812520e+06  4.547214e+07            239671.50090   \n",
       "1               8.491851e+06  1.573254e+07             94809.20697   \n",
       "2              -1.393229e+07           NaN            610814.63990   \n",
       "3               1.379064e+06           NaN                     NaN   \n",
       "4              -6.297179e+05  7.620711e+06            116647.73960   \n",
       "\n",
       "   ANTICIPOS_CTE   CAP_SOCIAL  UTILIDADES_ACUMULADAS  UTILIDAD_O_PERDIDA  \\\n",
       "0   1.257907e+06  2356497.733          -6.009930e+06       -6.816681e+06   \n",
       "1   6.708985e+05          NaN          -7.980962e+06       -3.342452e+06   \n",
       "2   1.009937e+07  1444426.243                    NaN       -4.026344e+06   \n",
       "3   2.378928e+06  1236065.779                    NaN       -4.567435e+06   \n",
       "4   1.798065e+06  3657339.603           7.702845e+05       -7.110320e+05   \n",
       "\n",
       "   TOTAL_VENTAS  TOTAL_COMPRAS  UTILIDAD_BRUTA  TOTAL_GASTOS    OBJETIVO  \n",
       "0   41309820.53   6.872572e+07     6298390.104  1.505762e+07    Aceptado  \n",
       "1           NaN   3.588274e+07             NaN  1.085156e+07    Aceptado  \n",
       "2           NaN   3.292337e+08             NaN  8.680735e+06  Sospechoso  \n",
       "3   76310275.60            NaN             NaN  1.323267e+07    Aceptado  \n",
       "4   62901614.29   3.614260e+07     6850340.403  1.100048e+07    Aceptado  "
      ]
     },
     "execution_count": 8,
     "metadata": {},
     "output_type": "execute_result"
    }
   ],
   "source": [
    "#df = pd.read_csv(r'reto-4-compu-train.csv')\n",
    "#df = pd.read_csv(url)\n",
    "df = pd.read_csv(ruta)\n",
    "df.head()"
   ]
  },
  {
   "cell_type": "markdown",
   "metadata": {},
   "source": [
    "### Acerca del Dataset"
   ]
  },
  {
   "cell_type": "code",
   "execution_count": 9,
   "metadata": {
    "scrolled": false
   },
   "outputs": [
    {
     "name": "stdout",
     "output_type": "stream",
     "text": [
      "<class 'pandas.core.frame.DataFrame'>\n",
      "RangeIndex: 9400 entries, 0 to 9399\n",
      "Data columns (total 17 columns):\n",
      " #   Column                     Non-Null Count  Dtype  \n",
      "---  ------                     --------------  -----  \n",
      " 0   EFECTIVO                   7986 non-null   float64\n",
      " 1   CXC                        7968 non-null   float64\n",
      " 2   INVENTARIO                 8000 non-null   float64\n",
      " 3   EQ_OFICINA                 7945 non-null   float64\n",
      " 4   EQ_TRANSPORTE              7988 non-null   float64\n",
      " 5   TERRENOS_Y_CONSTRUCCIONES  8038 non-null   float64\n",
      " 6   CXP                        7934 non-null   float64\n",
      " 7   CONTRIBUCIONES_X_PAGAR     8052 non-null   float64\n",
      " 8   ANTICIPOS_CTE              7976 non-null   float64\n",
      " 9   CAP_SOCIAL                 8036 non-null   float64\n",
      " 10  UTILIDADES_ACUMULADAS      7993 non-null   float64\n",
      " 11  UTILIDAD_O_PERDIDA         8031 non-null   float64\n",
      " 12  TOTAL_VENTAS               7941 non-null   float64\n",
      " 13  TOTAL_COMPRAS              7908 non-null   float64\n",
      " 14  UTILIDAD_BRUTA             7971 non-null   float64\n",
      " 15  TOTAL_GASTOS               7943 non-null   float64\n",
      " 16  OBJETIVO                   9400 non-null   object \n",
      "dtypes: float64(16), object(1)\n",
      "memory usage: 1.2+ MB\n"
     ]
    }
   ],
   "source": [
    "df.info()"
   ]
  },
  {
   "cell_type": "markdown",
   "metadata": {},
   "source": [
    "Las variables son todas numericas. Solo nuestra variable TARGET (Prestamo aprobado o posible incumplimiento financiero) es the tipo float.\n",
    "\n",
    "La función describe() de abajo muestra varias estadisticas del dataset."
   ]
  },
  {
   "cell_type": "code",
   "execution_count": 10,
   "metadata": {
    "scrolled": true
   },
   "outputs": [
    {
     "data": {
      "text/html": [
       "<div>\n",
       "<style scoped>\n",
       "    .dataframe tbody tr th:only-of-type {\n",
       "        vertical-align: middle;\n",
       "    }\n",
       "\n",
       "    .dataframe tbody tr th {\n",
       "        vertical-align: top;\n",
       "    }\n",
       "\n",
       "    .dataframe thead th {\n",
       "        text-align: right;\n",
       "    }\n",
       "</style>\n",
       "<table border=\"1\" class=\"dataframe\">\n",
       "  <thead>\n",
       "    <tr style=\"text-align: right;\">\n",
       "      <th></th>\n",
       "      <th>EFECTIVO</th>\n",
       "      <th>CXC</th>\n",
       "      <th>INVENTARIO</th>\n",
       "      <th>EQ_OFICINA</th>\n",
       "      <th>EQ_TRANSPORTE</th>\n",
       "      <th>TERRENOS_Y_CONSTRUCCIONES</th>\n",
       "      <th>CXP</th>\n",
       "      <th>CONTRIBUCIONES_X_PAGAR</th>\n",
       "      <th>ANTICIPOS_CTE</th>\n",
       "      <th>CAP_SOCIAL</th>\n",
       "      <th>UTILIDADES_ACUMULADAS</th>\n",
       "      <th>UTILIDAD_O_PERDIDA</th>\n",
       "      <th>TOTAL_VENTAS</th>\n",
       "      <th>TOTAL_COMPRAS</th>\n",
       "      <th>UTILIDAD_BRUTA</th>\n",
       "      <th>TOTAL_GASTOS</th>\n",
       "    </tr>\n",
       "  </thead>\n",
       "  <tbody>\n",
       "    <tr>\n",
       "      <th>count</th>\n",
       "      <td>7.986000e+03</td>\n",
       "      <td>7.968000e+03</td>\n",
       "      <td>8.000000e+03</td>\n",
       "      <td>7.945000e+03</td>\n",
       "      <td>7.988000e+03</td>\n",
       "      <td>8.038000e+03</td>\n",
       "      <td>7.934000e+03</td>\n",
       "      <td>8.052000e+03</td>\n",
       "      <td>7.976000e+03</td>\n",
       "      <td>8.036000e+03</td>\n",
       "      <td>7.993000e+03</td>\n",
       "      <td>8.031000e+03</td>\n",
       "      <td>7.941000e+03</td>\n",
       "      <td>7.908000e+03</td>\n",
       "      <td>7.971000e+03</td>\n",
       "      <td>7.943000e+03</td>\n",
       "    </tr>\n",
       "    <tr>\n",
       "      <th>mean</th>\n",
       "      <td>1.720915e+06</td>\n",
       "      <td>1.561073e+07</td>\n",
       "      <td>1.098941e+07</td>\n",
       "      <td>4.341284e+06</td>\n",
       "      <td>1.321588e+06</td>\n",
       "      <td>6.198420e+05</td>\n",
       "      <td>2.275234e+07</td>\n",
       "      <td>4.109997e+05</td>\n",
       "      <td>2.635145e+06</td>\n",
       "      <td>3.325138e+06</td>\n",
       "      <td>4.240122e+06</td>\n",
       "      <td>-2.090086e+06</td>\n",
       "      <td>1.017051e+08</td>\n",
       "      <td>1.211510e+08</td>\n",
       "      <td>1.702067e+07</td>\n",
       "      <td>1.620236e+07</td>\n",
       "    </tr>\n",
       "    <tr>\n",
       "      <th>std</th>\n",
       "      <td>5.958844e+06</td>\n",
       "      <td>1.980334e+07</td>\n",
       "      <td>1.541956e+07</td>\n",
       "      <td>1.885512e+07</td>\n",
       "      <td>1.398674e+06</td>\n",
       "      <td>6.202347e+06</td>\n",
       "      <td>2.810091e+07</td>\n",
       "      <td>6.311683e+05</td>\n",
       "      <td>3.828127e+06</td>\n",
       "      <td>4.122756e+06</td>\n",
       "      <td>1.066916e+07</td>\n",
       "      <td>2.439421e+06</td>\n",
       "      <td>1.148423e+08</td>\n",
       "      <td>3.320798e+08</td>\n",
       "      <td>1.710116e+07</td>\n",
       "      <td>1.341951e+07</td>\n",
       "    </tr>\n",
       "    <tr>\n",
       "      <th>min</th>\n",
       "      <td>2.591455e+03</td>\n",
       "      <td>3.282261e+01</td>\n",
       "      <td>5.019700e-02</td>\n",
       "      <td>2.974216e+02</td>\n",
       "      <td>1.698222e+02</td>\n",
       "      <td>-1.577708e+07</td>\n",
       "      <td>1.276200e+01</td>\n",
       "      <td>5.638191e+03</td>\n",
       "      <td>4.495763e+00</td>\n",
       "      <td>2.334091e+00</td>\n",
       "      <td>-4.029189e+07</td>\n",
       "      <td>-8.716171e+06</td>\n",
       "      <td>7.154203e+03</td>\n",
       "      <td>1.458903e+05</td>\n",
       "      <td>2.408107e+03</td>\n",
       "      <td>3.979024e+03</td>\n",
       "    </tr>\n",
       "    <tr>\n",
       "      <th>25%</th>\n",
       "      <td>1.874601e+05</td>\n",
       "      <td>2.362067e+06</td>\n",
       "      <td>9.281351e+05</td>\n",
       "      <td>1.769855e+05</td>\n",
       "      <td>3.433503e+05</td>\n",
       "      <td>-3.874056e+06</td>\n",
       "      <td>3.711720e+06</td>\n",
       "      <td>1.113298e+05</td>\n",
       "      <td>3.813363e+05</td>\n",
       "      <td>5.629920e+05</td>\n",
       "      <td>-3.025772e+06</td>\n",
       "      <td>-3.824858e+06</td>\n",
       "      <td>2.303181e+07</td>\n",
       "      <td>1.214764e+07</td>\n",
       "      <td>4.836037e+06</td>\n",
       "      <td>6.104123e+06</td>\n",
       "    </tr>\n",
       "    <tr>\n",
       "      <th>50%</th>\n",
       "      <td>5.112329e+05</td>\n",
       "      <td>8.255125e+06</td>\n",
       "      <td>4.810330e+06</td>\n",
       "      <td>6.529255e+05</td>\n",
       "      <td>8.630635e+05</td>\n",
       "      <td>1.828932e+06</td>\n",
       "      <td>1.286143e+07</td>\n",
       "      <td>2.288855e+05</td>\n",
       "      <td>1.235872e+06</td>\n",
       "      <td>1.870131e+06</td>\n",
       "      <td>4.119952e+06</td>\n",
       "      <td>-1.629044e+06</td>\n",
       "      <td>6.309045e+07</td>\n",
       "      <td>3.473485e+07</td>\n",
       "      <td>1.181114e+07</td>\n",
       "      <td>1.272461e+07</td>\n",
       "    </tr>\n",
       "    <tr>\n",
       "      <th>75%</th>\n",
       "      <td>1.432613e+06</td>\n",
       "      <td>2.160462e+07</td>\n",
       "      <td>1.474278e+07</td>\n",
       "      <td>2.430901e+06</td>\n",
       "      <td>1.827559e+06</td>\n",
       "      <td>5.955197e+06</td>\n",
       "      <td>3.097250e+07</td>\n",
       "      <td>4.690705e+05</td>\n",
       "      <td>3.273238e+06</td>\n",
       "      <td>4.536913e+06</td>\n",
       "      <td>1.140550e+07</td>\n",
       "      <td>-7.368186e+03</td>\n",
       "      <td>1.378293e+08</td>\n",
       "      <td>1.007433e+08</td>\n",
       "      <td>2.352766e+07</td>\n",
       "      <td>2.260017e+07</td>\n",
       "    </tr>\n",
       "    <tr>\n",
       "      <th>max</th>\n",
       "      <td>3.343603e+08</td>\n",
       "      <td>2.135761e+08</td>\n",
       "      <td>1.664338e+08</td>\n",
       "      <td>5.913821e+08</td>\n",
       "      <td>1.290365e+07</td>\n",
       "      <td>9.031323e+06</td>\n",
       "      <td>2.644946e+08</td>\n",
       "      <td>1.618323e+07</td>\n",
       "      <td>4.291686e+07</td>\n",
       "      <td>4.116688e+07</td>\n",
       "      <td>4.056842e+07</td>\n",
       "      <td>1.214191e+06</td>\n",
       "      <td>1.151511e+09</td>\n",
       "      <td>1.000136e+10</td>\n",
       "      <td>1.438985e+08</td>\n",
       "      <td>9.763166e+07</td>\n",
       "    </tr>\n",
       "  </tbody>\n",
       "</table>\n",
       "</div>"
      ],
      "text/plain": [
       "           EFECTIVO           CXC    INVENTARIO    EQ_OFICINA  EQ_TRANSPORTE  \\\n",
       "count  7.986000e+03  7.968000e+03  8.000000e+03  7.945000e+03   7.988000e+03   \n",
       "mean   1.720915e+06  1.561073e+07  1.098941e+07  4.341284e+06   1.321588e+06   \n",
       "std    5.958844e+06  1.980334e+07  1.541956e+07  1.885512e+07   1.398674e+06   \n",
       "min    2.591455e+03  3.282261e+01  5.019700e-02  2.974216e+02   1.698222e+02   \n",
       "25%    1.874601e+05  2.362067e+06  9.281351e+05  1.769855e+05   3.433503e+05   \n",
       "50%    5.112329e+05  8.255125e+06  4.810330e+06  6.529255e+05   8.630635e+05   \n",
       "75%    1.432613e+06  2.160462e+07  1.474278e+07  2.430901e+06   1.827559e+06   \n",
       "max    3.343603e+08  2.135761e+08  1.664338e+08  5.913821e+08   1.290365e+07   \n",
       "\n",
       "       TERRENOS_Y_CONSTRUCCIONES           CXP  CONTRIBUCIONES_X_PAGAR  \\\n",
       "count               8.038000e+03  7.934000e+03            8.052000e+03   \n",
       "mean                6.198420e+05  2.275234e+07            4.109997e+05   \n",
       "std                 6.202347e+06  2.810091e+07            6.311683e+05   \n",
       "min                -1.577708e+07  1.276200e+01            5.638191e+03   \n",
       "25%                -3.874056e+06  3.711720e+06            1.113298e+05   \n",
       "50%                 1.828932e+06  1.286143e+07            2.288855e+05   \n",
       "75%                 5.955197e+06  3.097250e+07            4.690705e+05   \n",
       "max                 9.031323e+06  2.644946e+08            1.618323e+07   \n",
       "\n",
       "       ANTICIPOS_CTE    CAP_SOCIAL  UTILIDADES_ACUMULADAS  UTILIDAD_O_PERDIDA  \\\n",
       "count   7.976000e+03  8.036000e+03           7.993000e+03        8.031000e+03   \n",
       "mean    2.635145e+06  3.325138e+06           4.240122e+06       -2.090086e+06   \n",
       "std     3.828127e+06  4.122756e+06           1.066916e+07        2.439421e+06   \n",
       "min     4.495763e+00  2.334091e+00          -4.029189e+07       -8.716171e+06   \n",
       "25%     3.813363e+05  5.629920e+05          -3.025772e+06       -3.824858e+06   \n",
       "50%     1.235872e+06  1.870131e+06           4.119952e+06       -1.629044e+06   \n",
       "75%     3.273238e+06  4.536913e+06           1.140550e+07       -7.368186e+03   \n",
       "max     4.291686e+07  4.116688e+07           4.056842e+07        1.214191e+06   \n",
       "\n",
       "       TOTAL_VENTAS  TOTAL_COMPRAS  UTILIDAD_BRUTA  TOTAL_GASTOS  \n",
       "count  7.941000e+03   7.908000e+03    7.971000e+03  7.943000e+03  \n",
       "mean   1.017051e+08   1.211510e+08    1.702067e+07  1.620236e+07  \n",
       "std    1.148423e+08   3.320798e+08    1.710116e+07  1.341951e+07  \n",
       "min    7.154203e+03   1.458903e+05    2.408107e+03  3.979024e+03  \n",
       "25%    2.303181e+07   1.214764e+07    4.836037e+06  6.104123e+06  \n",
       "50%    6.309045e+07   3.473485e+07    1.181114e+07  1.272461e+07  \n",
       "75%    1.378293e+08   1.007433e+08    2.352766e+07  2.260017e+07  \n",
       "max    1.151511e+09   1.000136e+10    1.438985e+08  9.763166e+07  "
      ]
     },
     "execution_count": 10,
     "metadata": {},
     "output_type": "execute_result"
    }
   ],
   "source": [
    "df.describe()"
   ]
  },
  {
   "cell_type": "markdown",
   "metadata": {},
   "source": [
    "<hr>"
   ]
  },
  {
   "cell_type": "markdown",
   "metadata": {},
   "source": [
    "### Entrenamiento y evaluación de un modelo de clasificación binaria"
   ]
  },
  {
   "cell_type": "markdown",
   "metadata": {},
   "source": [
    "\n",
    "#### Transformación 1: excluir columnas del conjunto de datos\n",
    "\n",
    "Para la creación de una transformación de datos personalizada en scikit-learn, es necesario crear una clase con los métodos transform y fit. En el método de 'transform', se ejecutará la lógica de nuestra transformación.\n",
    "\n",
    "La siguiente celda muestra el código completo de una transformación DropColumns para eliminar columnas de un pandas DataFrame.\n"
   ]
  },
  {
   "cell_type": "code",
   "execution_count": 11,
   "metadata": {},
   "outputs": [],
   "source": [
    "from sklearn.base import BaseEstimator, TransformerMixin\n",
    "\n",
    "\n",
    "# All sklearn Transforms must have the `transform` and `fit` methods\n",
    "class DropColumns(BaseEstimator, TransformerMixin):\n",
    "    def __init__(self, columns):\n",
    "        self.columns = columns\n",
    "\n",
    "    def fit(self, X, y=None):\n",
    "        return self\n",
    "    \n",
    "    def transform(self, X):\n",
    "        # Primero copiamos el dataframe de datos de entrada 'X'\n",
    "        data = X.copy()\n",
    "        # Devolvemos un nuevo dataframe de datos sin las columnas no deseadas\n",
    "        return data.drop(labels=self.columns, axis='columns')"
   ]
  },
  {
   "cell_type": "code",
   "execution_count": 16,
   "metadata": {},
   "outputs": [],
   "source": [
    "# Creación de instancias de una transformación DropColumns\n",
    "#rm_columns = DropColumns(\n",
    "#    columns=[\"CXC\", \"CXP\"]  # Esta transformación toma como parámetro una lista con los nombres de las columnas no deseadas\n",
    "#)\n",
    "\n",
    "#print(rm_columns)"
   ]
  },
  {
   "cell_type": "code",
   "execution_count": 12,
   "metadata": {},
   "outputs": [
    {
     "name": "stdout",
     "output_type": "stream",
     "text": [
      "Columnas del conjunto de datos original: \n",
      "\n",
      "Index(['EFECTIVO', 'CXC', 'INVENTARIO', 'EQ_OFICINA', 'EQ_TRANSPORTE',\n",
      "       'TERRENOS_Y_CONSTRUCCIONES', 'CXP', 'CONTRIBUCIONES_X_PAGAR',\n",
      "       'ANTICIPOS_CTE', 'CAP_SOCIAL', 'UTILIDADES_ACUMULADAS',\n",
      "       'UTILIDAD_O_PERDIDA', 'TOTAL_VENTAS', 'TOTAL_COMPRAS', 'UTILIDAD_BRUTA',\n",
      "       'TOTAL_GASTOS', 'OBJETIVO'],\n",
      "      dtype='object')\n",
      "\n",
      "\n",
      "Columnas del conjunto de datos después de la transformación ``DropColumns``: \n",
      "\n",
      "Index(['EFECTIVO', 'CXC', 'INVENTARIO', 'EQ_OFICINA', 'EQ_TRANSPORTE',\n",
      "       'TERRENOS_Y_CONSTRUCCIONES', 'CXP', 'CONTRIBUCIONES_X_PAGAR',\n",
      "       'ANTICIPOS_CTE', 'CAP_SOCIAL', 'UTILIDADES_ACUMULADAS',\n",
      "       'UTILIDAD_O_PERDIDA', 'TOTAL_VENTAS', 'TOTAL_COMPRAS', 'UTILIDAD_BRUTA',\n",
      "       'TOTAL_GASTOS', 'OBJETIVO'],\n",
      "      dtype='object')\n"
     ]
    }
   ],
   "source": [
    "# Ver las columnas del conjunto de datos original\n",
    "print(\"Columnas del conjunto de datos original: \\n\")\n",
    "print(df.columns)\n",
    "\n",
    "# Aplicar la transformación ``DropColumns`` al conjunto de datos base\n",
    "#rm_columns.fit(X=df)\n",
    "\n",
    "# Reconstruyendo un DataFrame de Pandas con el resultado de la transformación\n",
    "#df2 = pd.DataFrame.from_records(\n",
    "#    data=rm_columns.transform(\n",
    "##        X=df\n",
    "#    ),\n",
    "#)\n",
    "\n",
    "df2 = df.copy()\n",
    "\n",
    "# Ver las columnas del conjunto de datos transformado\n",
    "print(\"\\n\\nColumnas del conjunto de datos después de la transformación ``DropColumns``: \\n\")\n",
    "print(df2.columns)"
   ]
  },
  {
   "cell_type": "markdown",
   "metadata": {},
   "source": [
    "#### Transformación 2: estandarización de Features"
   ]
  },
  {
   "cell_type": "markdown",
   "metadata": {},
   "source": [
    "#### Definición de features (Variables Independientes)\n",
    "\n",
    "En este * ejemplo * usaremos todas las columnas. (Usted debe decidir cuales variables utilizar)"
   ]
  },
  {
   "cell_type": "markdown",
   "metadata": {},
   "source": [
    "#### División en 80% entrenamiento y 20% pruebas"
   ]
  },
  {
   "cell_type": "markdown",
   "metadata": {},
   "source": [
    "#### Transformación 3: tratamiento de datos faltantes\n",
    "\n",
    "Para manejar los datos que faltan en nuestro conjunto de datos, ahora usaremos una transformación lista para usar de la biblioteca scikit-learn, llamada SimpleImputer.\n",
    "\n",
    "Esta transformación permite varias estrategias para el tratamiento de datos faltantes. La documentación oficial se puede encontrar en: https://scikit-learn.org/stable/modules/generated/sklearn.impute.SimpleImputer.html\n",
    "\n",
    "En este ejemplo, simplemente haremos cero todos los valores faltante usted puede escoger otra estrategia ;)."
   ]
  },
  {
   "cell_type": "code",
   "execution_count": 13,
   "metadata": {},
   "outputs": [
    {
     "name": "stdout",
     "output_type": "stream",
     "text": [
      "SimpleImputer(fill_value=0, strategy='constant')\n"
     ]
    }
   ],
   "source": [
    "# Crear un objeto ``SimpleImputer``\n",
    "si = SimpleImputer(\n",
    "    missing_values=np.nan,  # los valores que faltan son del tipo ``np.nan`` (Pandas estándar)\n",
    "    strategy='constant',  # la estrategia elegida es cambiar el valor faltante por una constante\n",
    "    fill_value=0,  # la constante que se usará para completar los valores faltantes es un int64 = 0\n",
    "    verbose=0,\n",
    "    copy=True\n",
    ")\n",
    "\n",
    "print(si)"
   ]
  },
  {
   "cell_type": "code",
   "execution_count": 14,
   "metadata": {},
   "outputs": [
    {
     "name": "stdout",
     "output_type": "stream",
     "text": [
      "Valores nulos antes de la transformación SimpleImputer: \n",
      "\n",
      "EFECTIVO                     1414\n",
      "CXC                          1432\n",
      "INVENTARIO                   1400\n",
      "EQ_OFICINA                   1455\n",
      "EQ_TRANSPORTE                1412\n",
      "TERRENOS_Y_CONSTRUCCIONES    1362\n",
      "CXP                          1466\n",
      "CONTRIBUCIONES_X_PAGAR       1348\n",
      "ANTICIPOS_CTE                1424\n",
      "CAP_SOCIAL                   1364\n",
      "UTILIDADES_ACUMULADAS        1407\n",
      "UTILIDAD_O_PERDIDA           1369\n",
      "TOTAL_VENTAS                 1459\n",
      "TOTAL_COMPRAS                1492\n",
      "UTILIDAD_BRUTA               1429\n",
      "TOTAL_GASTOS                 1457\n",
      "OBJETIVO                        0\n",
      "dtype: int64\n",
      "\n",
      "\n",
      "\n",
      "Valores nulos en el conjunto de datos después de la transformación SimpleImputer: \n",
      "\n",
      "EFECTIVO                     0\n",
      "CXC                          0\n",
      "INVENTARIO                   0\n",
      "EQ_OFICINA                   0\n",
      "EQ_TRANSPORTE                0\n",
      "TERRENOS_Y_CONSTRUCCIONES    0\n",
      "CXP                          0\n",
      "CONTRIBUCIONES_X_PAGAR       0\n",
      "ANTICIPOS_CTE                0\n",
      "CAP_SOCIAL                   0\n",
      "UTILIDADES_ACUMULADAS        0\n",
      "UTILIDAD_O_PERDIDA           0\n",
      "TOTAL_VENTAS                 0\n",
      "TOTAL_COMPRAS                0\n",
      "UTILIDAD_BRUTA               0\n",
      "TOTAL_GASTOS                 0\n",
      "OBJETIVO                     0\n",
      "dtype: int64\n",
      "\n"
     ]
    }
   ],
   "source": [
    "# Ver los datos faltantes del conjunto de datos antes de la primera transformación (df_data_2)\n",
    "print(\"Valores nulos antes de la transformación SimpleImputer: \\n\\n{}\\n\".format(df2.isnull().sum(axis = 0)))\n",
    "\n",
    "# Aplicamos el SimpleImputer ``si`` al conjunto de datos df_data_2 (resultado de la primera transformación)\n",
    "si.fit(X=df2)\n",
    "\n",
    "# Reconstrucción de un nuevo DataFrame de Pandas con el conjunto imputado (df_data_3)\n",
    "df3 = pd.DataFrame.from_records(\n",
    "    data=si.transform(\n",
    "        X=df2\n",
    "    ),  # el resultado SimpleImputer.transform (<< pandas dataframe >>) es lista lista\n",
    "    columns=df2.columns  # las columnas originales deben conservarse en esta transformación\n",
    ")\n",
    "\n",
    "#df3 = df2.copy()\n",
    "\n",
    "# Ver los datos faltantes del conjunto de datos después de la segunda transformación (SimpleImputer) (df_data_3)\n",
    "print(\"\\n\\nValores nulos en el conjunto de datos después de la transformación SimpleImputer: \\n\\n{}\\n\".format(df3.isnull().sum(axis = 0)))"
   ]
  },
  {
   "cell_type": "code",
   "execution_count": 15,
   "metadata": {},
   "outputs": [],
   "source": [
    "\n",
    "# Definiendo las variables features y target (removed CXC and CXP)\n",
    "\n",
    "features = df3[\n",
    "    [\n",
    "        'EFECTIVO',\n",
    "        'CXC',\n",
    "        'INVENTARIO',\n",
    "        'EQ_OFICINA',\n",
    "        'EQ_TRANSPORTE',\n",
    "        'TERRENOS_Y_CONSTRUCCIONES',\n",
    "        'CXP',\n",
    "        'CONTRIBUCIONES_X_PAGAR',\n",
    "        'ANTICIPOS_CTE',\n",
    "        'CAP_SOCIAL',\n",
    "        'UTILIDADES_ACUMULADAS',\n",
    "        'UTILIDAD_O_PERDIDA',\n",
    "        'TOTAL_VENTAS',\n",
    "        'TOTAL_COMPRAS',\n",
    "        'UTILIDAD_BRUTA',\n",
    "        'TOTAL_GASTOS',\n",
    "    ]\n",
    "]\n",
    "target = df3[\"OBJETIVO\"]  ## No cambie la variable target!"
   ]
  },
  {
   "cell_type": "code",
   "execution_count": 16,
   "metadata": {},
   "outputs": [],
   "source": [
    "features_names=list(features)"
   ]
  },
  {
   "cell_type": "code",
   "execution_count": 17,
   "metadata": {},
   "outputs": [
    {
     "name": "stdout",
     "output_type": "stream",
     "text": [
      "16\n"
     ]
    }
   ],
   "source": [
    "n_features = features.shape[1]\n",
    "print(n_features)"
   ]
  },
  {
   "cell_type": "code",
   "execution_count": 18,
   "metadata": {},
   "outputs": [],
   "source": [
    "X_train, X_test, y_train, y_test = train_test_split(features, target, test_size=0.2, random_state=None)"
   ]
  },
  {
   "cell_type": "code",
   "execution_count": 19,
   "metadata": {},
   "outputs": [],
   "source": [
    "from sklearn.preprocessing import StandardScaler\n",
    "\n",
    "sc = StandardScaler()\n",
    "\n",
    "X_train = sc.fit_transform(X_train)\n",
    "X_test = sc.transform(X_test)"
   ]
  },
  {
   "cell_type": "markdown",
   "metadata": {},
   "source": [
    "## Entrenando un modelo ``XGBoost``"
   ]
  },
  {
   "cell_type": "code",
   "execution_count": null,
   "metadata": {},
   "outputs": [],
   "source": []
  },
  {
   "cell_type": "code",
   "execution_count": 20,
   "metadata": {},
   "outputs": [
    {
     "name": "stderr",
     "output_type": "stream",
     "text": [
      "C:\\Users\\Usuario\\Anaconda3\\lib\\site-packages\\dask\\dataframe\\utils.py:15: FutureWarning: pandas.util.testing is deprecated. Use the functions in the public API at pandas.testing instead.\n",
      "  import pandas.util.testing as tm\n"
     ]
    }
   ],
   "source": [
    "from xgboost import XGBClassifier\n",
    "from sklearn.preprocessing import LabelEncoder\n",
    "import gc\n",
    "from sklearn.metrics import confusion_matrix, f1_score, classification_report, precision_score, recall_score, accuracy_score\n",
    "\n",
    "from sklearn.model_selection import cross_val_score, KFold\n"
   ]
  },
  {
   "cell_type": "code",
   "execution_count": 21,
   "metadata": {},
   "outputs": [
    {
     "data": {
      "text/plain": [
       "array(['Aceptado', 'Aceptado', 'Aceptado', ..., 'Aceptado', 'Aceptado',\n",
       "       'Aceptado'], dtype=object)"
      ]
     },
     "execution_count": 21,
     "metadata": {},
     "output_type": "execute_result"
    }
   ],
   "source": [
    "y_train.values"
   ]
  },
  {
   "cell_type": "code",
   "execution_count": 22,
   "metadata": {},
   "outputs": [
    {
     "name": "stdout",
     "output_type": "stream",
     "text": [
      "XGBClassifier(base_score=None, booster=None, colsample_bylevel=None,\n",
      "              colsample_bynode=None, colsample_bytree=None, gamma=None,\n",
      "              gpu_id=None, importance_type='gain', interaction_constraints=None,\n",
      "              learning_rate=0.08, max_delta_step=None, max_depth=10,\n",
      "              min_child_weight=None, missing=nan, monotone_constraints=None,\n",
      "              n_estimators=600, n_jobs=None, num_parallel_tree=None,\n",
      "              random_state=None, reg_alpha=None, reg_lambda=None,\n",
      "              scale_pos_weight=1.6, subsample=None, tree_method=None,\n",
      "              validate_parameters=None, verbosity=None)\n"
     ]
    }
   ],
   "source": [
    "xgbc = XGBClassifier(n_estimators=600, max_depth =10, learning_rate = 0.08, scale_pos_weight= 1.6)\n",
    "print(xgbc)"
   ]
  },
  {
   "cell_type": "code",
   "execution_count": 23,
   "metadata": {},
   "outputs": [
    {
     "data": {
      "text/plain": [
       "XGBClassifier(base_score=0.5, booster='gbtree', colsample_bylevel=1,\n",
       "              colsample_bynode=1, colsample_bytree=1, gamma=0, gpu_id=-1,\n",
       "              importance_type='gain', interaction_constraints='',\n",
       "              learning_rate=0.08, max_delta_step=0, max_depth=10,\n",
       "              min_child_weight=1, missing=nan, monotone_constraints='()',\n",
       "              n_estimators=600, n_jobs=0, num_parallel_tree=1, random_state=0,\n",
       "              reg_alpha=0, reg_lambda=1, scale_pos_weight=1.6, subsample=1,\n",
       "              tree_method='exact', validate_parameters=1, verbosity=None)"
      ]
     },
     "execution_count": 23,
     "metadata": {},
     "output_type": "execute_result"
    }
   ],
   "source": [
    "xgbc.fit(X_train, y_train)"
   ]
  },
  {
   "cell_type": "code",
   "execution_count": 24,
   "metadata": {},
   "outputs": [],
   "source": [
    "y_pred = xgbc.predict(X_test)"
   ]
  },
  {
   "cell_type": "code",
   "execution_count": 25,
   "metadata": {},
   "outputs": [
    {
     "name": "stdout",
     "output_type": "stream",
     "text": [
      "['Aceptado' 'Aceptado' 'Aceptado' ... 'Aceptado' 'Aceptado' 'Aceptado']\n"
     ]
    }
   ],
   "source": [
    "print(y_pred)"
   ]
  },
  {
   "cell_type": "code",
   "execution_count": 30,
   "metadata": {},
   "outputs": [],
   "source": [
    "\n",
    "accuracy = accuracy_score(y_test, y_pred)\n"
   ]
  },
  {
   "cell_type": "code",
   "execution_count": 29,
   "metadata": {},
   "outputs": [
    {
     "data": {
      "text/plain": [
       "Text(0.5, 15.0, 'Predicted label\\n\\nAccuracy=0.975\\nPrecision=0.911\\nRecall=0.643\\nF1 Score=0.7539267015706808')"
      ]
     },
     "execution_count": 29,
     "metadata": {},
     "output_type": "execute_result"
    },
    {
     "data": {
      "image/png": "[encoded data removed]",
      "text/plain": [
       "<Figure size 432x288 with 2 Axes>"
      ]
     },
     "metadata": {
      "needs_background": "light"
     },
     "output_type": "display_data"
    }
   ],
   "source": [
    "cf_matrix = confusion_matrix(y_test, y_pred)\n",
    "group_names = ['Aprobado `Aceptado`', 'Refused `Sospechoso`', 'Refused `Aceptado`', 'Aprobado `Sospechoso`']\n",
    "group_counts = ['{0:0.0f}'.format(value) for value in cf_matrix.flatten()]\n",
    "group_percentages = ['{0:.2%}'.format(value) for value in cf_matrix.flatten()/np.sum(cf_matrix)]\n",
    "labels = [f'{v1}\\n{v2}\\n{v3}' for v1, v2, v3 in zip(group_names, group_counts, group_percentages)]\n",
    "labels = np.asarray(labels).reshape(2,2)\n",
    "accuracy  = np.trace(cf_matrix) / float(np.sum(cf_matrix))\n",
    "precision = cf_matrix[1,1] / sum(cf_matrix[:,1])\n",
    "recall    = cf_matrix[1,1] / sum(cf_matrix[1,:])\n",
    "f1_score  = 2*precision*recall / (precision + recall)\n",
    "sns.heatmap(cf_matrix, annot=labels, fmt='')\n",
    "stats_text = \"\\n\\nAccuracy={:0.3f}\\nPrecision={:0.3f}\\nRecall={:0.3f}\\nF1 Score={}\".format(accuracy, precision, recall, f1_score)\n",
    "plt.ylabel('True label')\n",
    "plt.xlabel('Predicted label' + stats_text)"
   ]
  },
  {
   "cell_type": "markdown",
   "metadata": {},
   "source": [
    "<hr>"
   ]
  },
  {
   "cell_type": "markdown",
   "metadata": {},
   "source": [
    "## model Pipeline"
   ]
  },
  {
   "cell_type": "code",
   "execution_count": 31,
   "metadata": {},
   "outputs": [],
   "source": [
    "pipeline_input = df[\n",
    "    [\n",
    "        'EFECTIVO',\n",
    "        'CXC',\n",
    "        'INVENTARIO',\n",
    "        'EQ_OFICINA',\n",
    "        'EQ_TRANSPORTE',\n",
    "        'TERRENOS_Y_CONSTRUCCIONES',\n",
    "        'CXP',\n",
    "        'CONTRIBUCIONES_X_PAGAR',\n",
    "        'ANTICIPOS_CTE',\n",
    "        'CAP_SOCIAL',\n",
    "        'UTILIDADES_ACUMULADAS',\n",
    "        'UTILIDAD_O_PERDIDA',\n",
    "        'TOTAL_VENTAS',\n",
    "        'TOTAL_COMPRAS',\n",
    "        'UTILIDAD_BRUTA',\n",
    "        'TOTAL_GASTOS',\n",
    "    ]\n",
    "]\n",
    "\n",
    "pipeline_target = df['OBJETIVO']"
   ]
  },
  {
   "cell_type": "code",
   "execution_count": 32,
   "metadata": {},
   "outputs": [],
   "source": [
    "# Separación de los datos en un set de entrenamiento y otro de prueba (PARA CREACION DEL PIPELINE)\n",
    "X_train, X_test, y_train, y_test = train_test_split(\n",
    "    pipeline_input,\n",
    "    pipeline_target,\n",
    "    test_size=0.3,\n",
    "    random_state=21233\n",
    ")"
   ]
  },
  {
   "cell_type": "markdown",
   "metadata": {},
   "source": [
    "###  definir el pipeline"
   ]
  },
  {
   "cell_type": "code",
   "execution_count": 38,
   "metadata": {},
   "outputs": [],
   "source": [
    "# Creación de nuestro para almacenamiento en Watson Machine Learning:\n",
    "my_pipeline = Pipeline(\n",
    "    steps=[\n",
    "        ('paso_1_imputer', si),\n",
    "        ('paso_2_standard_scaler', sc),\n",
    "        ('su_modelo', XGBClassifier(n_estimators=600, max_depth =10, learning_rate = 0.08, scale_pos_weight= 1.6)),\n",
    "    ]\n",
    ")"
   ]
  },
  {
   "cell_type": "code",
   "execution_count": 39,
   "metadata": {},
   "outputs": [
    {
     "data": {
      "text/plain": [
       "Pipeline(memory=None,\n",
       "     steps=[('paso_1_imputer', SimpleImputer(copy=True, fill_value=0, missing_values=nan,\n",
       "       strategy='constant', verbose=0)), ('paso_2_standard_scaler', StandardScaler(copy=True, with_mean=True, with_std=True)), ('su_modelo', XGBClassifier(base_score=0.5, booster='gbtree', colsample_bylevel=1,\n",
       "     ...      reg_alpha=0, reg_lambda=1, scale_pos_weight=1.6, seed=None,\n",
       "       silent=True, subsample=1))])"
      ]
     },
     "execution_count": 39,
     "metadata": {},
     "output_type": "execute_result"
    }
   ],
   "source": [
    "# Inicializando el Pipeline (pre-procesamiento y entrenamiento del modelo)\n",
    "my_pipeline.fit(X_train, y_train)"
   ]
  },
  {
   "cell_type": "code",
   "execution_count": 40,
   "metadata": {},
   "outputs": [
    {
     "data": {
      "text/plain": [
       "Text(0.5, 15.0, 'Predicted label\\n\\nAccuracy=0.972\\nPrecision=0.813\\nRecall=0.673\\nF1 Score=0.736')"
      ]
     },
     "execution_count": 40,
     "metadata": {},
     "output_type": "execute_result"
    },
    {
     "data": {
      "image/png": "[encoded data removed]",
      "text/plain": [
       "<Figure size 432x288 with 2 Axes>"
      ]
     },
     "metadata": {
      "needs_background": "light"
     },
     "output_type": "display_data"
    }
   ],
   "source": [
    "### Haciendo una predicción con el set de prueba\n",
    "\n",
    "y_pred = my_pipeline.predict(X_test)\n",
    "cf_matrix = confusion_matrix(y_test, y_pred)\n",
    "group_names = ['Aprobado `Aceptado`', 'Refused `Sospechoso`', 'Refused `Aceptado`', 'Aprobado `Sospechoso`']\n",
    "group_counts = ['{0:0.0f}'.format(value) for value in cf_matrix.flatten()]\n",
    "group_percentages = ['{0:.2%}'.format(value) for value in cf_matrix.flatten()/np.sum(cf_matrix)]\n",
    "labels = [f'{v1}\\n{v2}\\n{v3}' for v1, v2, v3 in zip(group_names, group_counts, group_percentages)]\n",
    "labels = np.asarray(labels).reshape(2,2)\n",
    "accuracy  = np.trace(cf_matrix) / float(np.sum(cf_matrix))\n",
    "precision = cf_matrix[1,1] / sum(cf_matrix[:,1])\n",
    "recall    = cf_matrix[1,1] / sum(cf_matrix[1,:])\n",
    "f1_score  = 2*precision*recall / (precision + recall)\n",
    "sns.heatmap(cf_matrix, annot=labels, fmt='')\n",
    "stats_text = \"\\n\\nAccuracy={:0.3f}\\nPrecision={:0.3f}\\nRecall={:0.3f}\\nF1 Score={:0.3f}\".format(accuracy, precision, recall, f1_score)\n",
    "plt.ylabel('True label')\n",
    "plt.xlabel('Predicted label' + stats_text)"
   ]
  },
  {
   "cell_type": "code",
   "execution_count": 41,
   "metadata": {},
   "outputs": [
    {
     "data": {
      "text/plain": [
       "0.9723404255319149"
      ]
     },
     "execution_count": 41,
     "metadata": {},
     "output_type": "execute_result"
    }
   ],
   "source": [
    "# Precisión simple\n",
    "my_pipeline.score(X_test, y_test)"
   ]
  },
  {
   "cell_type": "markdown",
   "metadata": {},
   "source": [
    "#### Estableciendo conexión entre el cliente Python de WML y su instancia del servicio en la nube"
   ]
  },
  {
   "cell_type": "code",
   "execution_count": 42,
   "metadata": {},
   "outputs": [],
   "source": [
    "# Biblioteca Python con implementación de un cliente HTTP para la API de WML\n",
    "from watson_machine_learning_client import WatsonMachineLearningAPIClient"
   ]
  },
  {
   "cell_type": "markdown",
   "metadata": {},
   "source": [
    "Credenciales de instancia WML.\n"
   ]
  },
  {
   "cell_type": "code",
   "execution_count": 43,
   "metadata": {},
   "outputs": [],
   "source": [
    "wml_credentials = {\n",
    "  \"apikey\": \"DMUUEhAVvVcI3cAvYmPRY8PnK9v_G-mZR_8CGzjShwtZ\",\n",
    "  \"iam_apikey_description\": \"Auto-generated for key a77bb085-10db-4772-8866-cc74047154f1\",\n",
    "  \"iam_apikey_name\": \"Credenciales de servicio-1\",\n",
    "  \"iam_role_crn\": \"crn:v1:bluemix:public:iam::::serviceRole:Writer\",\n",
    "  \"iam_serviceid_crn\": \"crn:v1:bluemix:public:iam-identity::a/c463e9c474b14ae88fb8beda6de216ea::serviceid:ServiceId-2e2090d5-d08c-4dfc-ab33-1c5a08f5d57f\",\n",
    "  \"instance_id\": \"1e6c2c41-4acd-4997-a1c6-e65b128ff7e1\",\n",
    "  \"url\": \"https://us-south.ml.cloud.ibm.com\"\n",
    "}"
   ]
  },
  {
   "cell_type": "code",
   "execution_count": 44,
   "metadata": {},
   "outputs": [],
   "source": [
    "# Instanciando un objeto cliente de Watson Machine Learning a partir de las credenciales\n",
    "\n",
    "clientWML = WatsonMachineLearningAPIClient(wml_credentials)"
   ]
  },
  {
   "cell_type": "code",
   "execution_count": 45,
   "metadata": {},
   "outputs": [
    {
     "name": "stdout",
     "output_type": "stream",
     "text": [
      "{\n",
      "    \"entity\": {\n",
      "        \"source\": \"Bluemix\",\n",
      "        \"published_models\": {\n",
      "            \"url\": \"https://us-south.ml.cloud.ibm.com/v3/wml_instances/1e6c2c41-4acd-4997-a1c6-e65b128ff7e1/published_models\"\n",
      "        },\n",
      "        \"usage\": {\n",
      "            \"capacity_units\": {\n",
      "                \"current\": 0,\n",
      "                \"limit\": 180000000\n",
      "            },\n",
      "            \"computation_time\": {\n",
      "                \"current\": 0,\n",
      "                \"limit\": 180000\n",
      "            },\n",
      "            \"deployment_count\": {\n",
      "                \"current\": 0,\n",
      "                \"limit\": 5\n",
      "            },\n",
      "            \"expiration_date\": \"2020-09-01T00:00:00.000Z\",\n",
      "            \"gpu_count_k80\": {\n",
      "                \"current\": 0,\n",
      "                \"limit\": 8\n",
      "            },\n",
      "            \"gpu_count_p100\": {\n",
      "                \"current\": 0,\n",
      "                \"limit\": 0\n",
      "            },\n",
      "            \"gpu_count_v100\": {\n",
      "                \"current\": 0,\n",
      "                \"limit\": 0\n",
      "            },\n",
      "            \"model_count\": {\n",
      "                \"current\": 0,\n",
      "                \"limit\": 200\n",
      "            },\n",
      "            \"prediction_count\": {\n",
      "                \"current\": 0,\n",
      "                \"limit\": 5000\n",
      "            }\n",
      "        },\n",
      "        \"tags\": null,\n",
      "        \"plan_id\": \"3f6acf43-ede8-413a-ac69-f8af3bb0cbfe\",\n",
      "        \"service_endpoints\": \"public\",\n",
      "        \"status\": \"Active\",\n",
      "        \"organization_guid\": \"N/A\",\n",
      "        \"region\": \"us-south\",\n",
      "        \"account\": {\n",
      "            \"id\": \"c463e9c474b14ae88fb8beda6de216ea\",\n",
      "            \"name\": \"Jorge Ugarte's Account\",\n",
      "            \"type\": \"STANDARD\"\n",
      "        },\n",
      "        \"owner\": {\n",
      "            \"beta_user\": false,\n",
      "            \"country_code\": \"ECU\",\n",
      "            \"email\": \"jugartef@usal.es\",\n",
      "            \"ibm_id\": \"550008KUST\",\n",
      "            \"user_id\": \"d56fe9fa-c2e2-4704-8c64-e2ead7fa035c\"\n",
      "        },\n",
      "        \"deployments\": {\n",
      "            \"url\": \"https://us-south.ml.cloud.ibm.com/v3/wml_instances/1e6c2c41-4acd-4997-a1c6-e65b128ff7e1/deployments\"\n",
      "        },\n",
      "        \"space_guid\": \"N/A\",\n",
      "        \"plan\": \"lite\"\n",
      "    },\n",
      "    \"metadata\": {\n",
      "        \"created_at\": \"2020-08-26T17:34:12.656Z\",\n",
      "        \"modified_at\": \"2020-08-26T17:34:12.656Z\",\n",
      "        \"guid\": \"1e6c2c41-4acd-4997-a1c6-e65b128ff7e1\",\n",
      "        \"url\": \"https://us-south.ml.cloud.ibm.com/v3/wml_instances/1e6c2c41-4acd-4997-a1c6-e65b128ff7e1\"\n",
      "    }\n",
      "}\n"
     ]
    }
   ],
   "source": [
    "# Extrayendo los detalles de su de Watson Machine Learning\n",
    "\n",
    "instance_details = clientWML.service_instance.get_details()\n",
    "print(json.dumps(instance_details, indent=4))"
   ]
  },
  {
   "cell_type": "markdown",
   "metadata": {},
   "source": [
    "#### Creando una nueva definición de paquete Python personalizado en WML"
   ]
  },
  {
   "cell_type": "code",
   "execution_count": 50,
   "metadata": {},
   "outputs": [
    {
     "name": "stdout",
     "output_type": "stream",
     "text": [
      "\n",
      " Lista de artefactos de runtime almacenados en WML:\n",
      "------------------------------------  --------------  ------------------------  ---------  --------------\n",
      "GUID                                  NAME            CREATED                   FRAMEWORK  TYPE\n",
      "613864ff-ee42-4fb2-941a-8f1b5dbd06bd  package_meta_4  2020-08-26T19:45:36.925Z  -          python library\n",
      "------------------------------------  --------------  ------------------------  ---------  --------------\n"
     ]
    }
   ],
   "source": [
    "# Definición de metadatos del paquete con las Transformaciones personalizadas\n",
    "pkg_meta = {\n",
    "    clientWML.runtimes.LibraryMetaNames.NAME: \"package_meta_4\",\n",
    "    clientWML.runtimes.LibraryMetaNames.DESCRIPTION: \"A custom sklearn transform package\",\n",
    "    clientWML.runtimes.LibraryMetaNames.FILEPATH: \"sklearn_transforms.zip\",  # Note que estamos utilizando o .zip criado anteriormente!\n",
    "    clientWML.runtimes.LibraryMetaNames.VERSION: \"1.0\",\n",
    "    clientWML.runtimes.LibraryMetaNames.PLATFORM: { \"name\": \"python\", \"versions\": [\"3.6\"] }\n",
    "}\n",
    "custom_package_details = clientWML.runtimes.store_library( pkg_meta )\n",
    "custom_package_uid = clientWML.runtimes.get_library_uid( custom_package_details )\n",
    "\n",
    "print(\"\\n Lista de artefactos de runtime almacenados en WML:\")\n",
    "clientWML.repository.list()"
   ]
  },
  {
   "cell_type": "markdown",
   "metadata": {},
   "source": [
    "#### Creando una nueva definición de runtime Python personalizado en WML\n"
   ]
  },
  {
   "cell_type": "code",
   "execution_count": 51,
   "metadata": {},
   "outputs": [
    {
     "name": "stdout",
     "output_type": "stream",
     "text": [
      "\n",
      " Detalles del runtime almacenados:\n",
      "{\n",
      "    \"entity\": {\n",
      "        \"name\": \"runtime_meta_4\",\n",
      "        \"description\": \"A Python runtime with custom sklearn Transforms\",\n",
      "        \"custom_libraries\": [\n",
      "            {\n",
      "                \"name\": \"package_meta_4\",\n",
      "                \"url\": \"https://private.us-south.ml.cloud.ibm.com/v4/libraries/613864ff-ee42-4fb2-941a-8f1b5dbd06bd\",\n",
      "                \"version\": \"1.0\"\n",
      "            }\n",
      "        ],\n",
      "        \"content_url\": \"https://private.us-south.ml.cloud.ibm.com/v4/runtimes/69ce5407-dac1-44ac-8f5d-76e6014b7457/content\",\n",
      "        \"platform\": {\n",
      "            \"name\": \"python\",\n",
      "            \"version\": \"3.6\"\n",
      "        }\n",
      "    },\n",
      "    \"metadata\": {\n",
      "        \"created_at\": \"2020-08-26T19:45:40.465Z\",\n",
      "        \"guid\": \"69ce5407-dac1-44ac-8f5d-76e6014b7457\",\n",
      "        \"url\": \"https://us-south.ml.cloud.ibm.com/v4/runtimes/69ce5407-dac1-44ac-8f5d-76e6014b7457\"\n",
      "    }\n",
      "}\n"
     ]
    }
   ],
   "source": [
    "runtime_meta = {\n",
    "    clientWML.runtimes.ConfigurationMetaNames.NAME: \"runtime_meta_4\",\n",
    "    clientWML.runtimes.ConfigurationMetaNames.DESCRIPTION: \"A Python runtime with custom sklearn Transforms\",\n",
    "    clientWML.runtimes.ConfigurationMetaNames.PLATFORM: {\n",
    "        \"name\": \"python\",\n",
    "        \"version\": \"3.6\"\n",
    "    },\n",
    "    clientWML.runtimes.ConfigurationMetaNames.LIBRARIES_UIDS: [ custom_package_uid ]\n",
    "}\n",
    "runtime_details = clientWML.runtimes.store( runtime_meta )\n",
    "custom_runtime_uid = clientWML.runtimes.get_uid( runtime_details )\n",
    "\n",
    "print(\"\\n Detalles del runtime almacenados:\")\n",
    "print(json.dumps(runtime_details, indent=4))"
   ]
  },
  {
   "cell_type": "code",
   "execution_count": 52,
   "metadata": {},
   "outputs": [
    {
     "name": "stdout",
     "output_type": "stream",
     "text": [
      "------------------------------------  --------------  ------------------------  ----------\n",
      "GUID                                  NAME            CREATED                   PLATFORM\n",
      "69ce5407-dac1-44ac-8f5d-76e6014b7457  runtime_meta_4  2020-08-26T19:45:40.465Z  python-3.6\n",
      "------------------------------------  --------------  ------------------------  ----------\n"
     ]
    }
   ],
   "source": [
    "# Listando todos los runtimes almacenados en su WML:\n",
    "clientWML.runtimes.list()"
   ]
  },
  {
   "cell_type": "markdown",
   "metadata": {},
   "source": [
    "####  Pipeline personalizado en WML\n"
   ]
  },
  {
   "cell_type": "code",
   "execution_count": 53,
   "metadata": {},
   "outputs": [],
   "source": [
    "model_meta = {\n",
    "    clientWML.repository.ModelMetaNames.NAME: 'pipeline_meta_4',\n",
    "    clientWML.repository.ModelMetaNames.DESCRIPTION: \"my pipeline for submission\",\n",
    "    clientWML.repository.ModelMetaNames.RUNTIME_UID: custom_runtime_uid\n",
    "}"
   ]
  },
  {
   "cell_type": "code",
   "execution_count": 54,
   "metadata": {},
   "outputs": [
    {
     "name": "stdout",
     "output_type": "stream",
     "text": [
      "\n",
      " Lista de artefatos almacenados en WML:\n",
      "------------------------------------  ---------------  ------------------------  -----------------  --------------\n",
      "GUID                                  NAME             CREATED                   FRAMEWORK          TYPE\n",
      "800c5213-1cc5-443d-b00b-55bbb644ff0f  pipeline_meta_4  2020-08-26T19:45:54.928Z  scikit-learn-0.20  model\n",
      "613864ff-ee42-4fb2-941a-8f1b5dbd06bd  package_meta_4   2020-08-26T19:45:36.925Z  -                  python library\n",
      "69ce5407-dac1-44ac-8f5d-76e6014b7457  runtime_meta_4   2020-08-26T19:45:40.465Z  -                  python runtime\n",
      "------------------------------------  ---------------  ------------------------  -----------------  --------------\n",
      "\n",
      " Metadatos del modelo almacenado:\n",
      "{\n",
      "    \"metadata\": {\n",
      "        \"guid\": \"800c5213-1cc5-443d-b00b-55bbb644ff0f\",\n",
      "        \"url\": \"https://us-south.ml.cloud.ibm.com/v3/wml_instances/1e6c2c41-4acd-4997-a1c6-e65b128ff7e1/published_models/800c5213-1cc5-443d-b00b-55bbb644ff0f\",\n",
      "        \"created_at\": \"2020-08-26T19:45:54.928Z\",\n",
      "        \"modified_at\": \"2020-08-26T19:45:54.999Z\"\n",
      "    },\n",
      "    \"entity\": {\n",
      "        \"runtime_environment\": \"python-3.6\",\n",
      "        \"learning_configuration_url\": \"https://us-south.ml.cloud.ibm.com/v3/wml_instances/1e6c2c41-4acd-4997-a1c6-e65b128ff7e1/published_models/800c5213-1cc5-443d-b00b-55bbb644ff0f/learning_configuration\",\n",
      "        \"name\": \"pipeline_meta_4\",\n",
      "        \"description\": \"my pipeline for submission\",\n",
      "        \"learning_iterations_url\": \"https://us-south.ml.cloud.ibm.com/v3/wml_instances/1e6c2c41-4acd-4997-a1c6-e65b128ff7e1/published_models/800c5213-1cc5-443d-b00b-55bbb644ff0f/learning_iterations\",\n",
      "        \"feedback_url\": \"https://us-south.ml.cloud.ibm.com/v3/wml_instances/1e6c2c41-4acd-4997-a1c6-e65b128ff7e1/published_models/800c5213-1cc5-443d-b00b-55bbb644ff0f/feedback\",\n",
      "        \"latest_version\": {\n",
      "            \"url\": \"https://us-south.ml.cloud.ibm.com/v3/ml_assets/models/800c5213-1cc5-443d-b00b-55bbb644ff0f/versions/7049f17b-dd35-48c0-8a26-b024714b198c\",\n",
      "            \"guid\": \"7049f17b-dd35-48c0-8a26-b024714b198c\",\n",
      "            \"created_at\": \"2020-08-26T19:45:54.999Z\"\n",
      "        },\n",
      "        \"model_type\": \"scikit-learn-0.20\",\n",
      "        \"deployments\": {\n",
      "            \"count\": 0,\n",
      "            \"url\": \"https://us-south.ml.cloud.ibm.com/v3/wml_instances/1e6c2c41-4acd-4997-a1c6-e65b128ff7e1/published_models/800c5213-1cc5-443d-b00b-55bbb644ff0f/deployments\"\n",
      "        },\n",
      "        \"evaluation_metrics_url\": \"https://us-south.ml.cloud.ibm.com/v3/wml_instances/1e6c2c41-4acd-4997-a1c6-e65b128ff7e1/published_models/800c5213-1cc5-443d-b00b-55bbb644ff0f/evaluation_metrics\",\n",
      "        \"runtime\": {\n",
      "            \"url\": \"https://us-south.ml.cloud.ibm.com/v4/runtimes/69ce5407-dac1-44ac-8f5d-76e6014b7457\"\n",
      "        }\n",
      "    }\n",
      "}\n"
     ]
    }
   ],
   "source": [
    "# Función para almacenar una definición de Pipeline en WML\n",
    "stored_model_details = clientWML.repository.store_model(\n",
    "    model=my_pipeline,  # `my_pipeline` es la variable creada anteriormente que contiene nuestro Pipeline ya entrenado :)\n",
    "    meta_props=model_meta,  # Metadatos definidos en la celda anterior\n",
    "    training_data=None  # No altere este parametro\n",
    ")\n",
    "\n",
    "print(\"\\n Lista de artefatos almacenados en WML:\")\n",
    "clientWML.repository.list()\n",
    "\n",
    "# Datalles del modelo hospedado en Watson Machine Learning\n",
    "print(\"\\n Metadatos del modelo almacenado:\")\n",
    "print(json.dumps(stored_model_details, indent=4))"
   ]
  },
  {
   "cell_type": "code",
   "execution_count": 55,
   "metadata": {},
   "outputs": [
    {
     "name": "stdout",
     "output_type": "stream",
     "text": [
      "\n",
      "\n",
      "#######################################################################################\n",
      "\n",
      "Synchronous deployment creation for uid: '800c5213-1cc5-443d-b00b-55bbb644ff0f' started\n",
      "\n",
      "#######################################################################################\n",
      "\n",
      "\n",
      "INITIALIZING\n",
      "DEPLOY_IN_PROGRESS..\n",
      "DEPLOY_SUCCESS\n",
      "\n",
      "\n",
      "------------------------------------------------------------------------------------------------\n",
      "Successfully finished deployment creation, deployment_uid='927267b5-277e-48fb-8d1d-c5221b76d27a'\n",
      "------------------------------------------------------------------------------------------------\n",
      "\n",
      "\n"
     ]
    }
   ],
   "source": [
    "# El deployment del modelo es finalmente realizado por medio del método ``deployments.create()``\n",
    "\n",
    "model_deployment_details = clientWML.deployments.create(\n",
    "    artifact_uid=stored_model_details[\"metadata\"][\"guid\"],  # No altere este parametro\n",
    "    name=\"deployment_meta_4\",\n",
    "    description=\"Desafio 4 MBTC\",\n",
    "    asynchronous=False,  # No altere este parametro\n",
    "    deployment_type='online',  # No altere este parametro\n",
    "    deployment_format='Core ML',  # No altere este parametro\n",
    "    meta_props=model_meta  # No altere este parametro\n",
    ")"
   ]
  },
  {
   "cell_type": "markdown",
   "metadata": {},
   "source": [
    "#### Probando el modelo hospedado en Watson Machine Learning"
   ]
  },
  {
   "cell_type": "code",
   "execution_count": 56,
   "metadata": {},
   "outputs": [
    {
     "name": "stdout",
     "output_type": "stream",
     "text": [
      "La URL de llamada de su API es: https://us-south.ml.cloud.ibm.com/v3/wml_instances/1e6c2c41-4acd-4997-a1c6-e65b128ff7e1/deployments/927267b5-277e-48fb-8d1d-c5221b76d27a/online\n"
     ]
    }
   ],
   "source": [
    "# Recuperando la URL endpoint dl modelo hospedado en la celda anterior\n",
    "\n",
    "model_endpoint_url = clientWML.deployments.get_scoring_url(model_deployment_details)\n",
    "print(\"La URL de llamada de su API es: {}\".format(model_endpoint_url))"
   ]
  },
  {
   "cell_type": "markdown",
   "metadata": {},
   "source": [
    "### ATENCIÓN: UD necesitará de la URL de arriba para entregar su modelo :)"
   ]
  },
  {
   "cell_type": "code",
   "execution_count": 57,
   "metadata": {},
   "outputs": [
    {
     "name": "stdout",
     "output_type": "stream",
     "text": [
      "Metadatos del deployment realizado: \n",
      "\n",
      "{\n",
      "    \"metadata\": {\n",
      "        \"guid\": \"927267b5-277e-48fb-8d1d-c5221b76d27a\",\n",
      "        \"url\": \"https://us-south.ml.cloud.ibm.com/v3/wml_instances/1e6c2c41-4acd-4997-a1c6-e65b128ff7e1/deployments/927267b5-277e-48fb-8d1d-c5221b76d27a\",\n",
      "        \"created_at\": \"2020-08-26T19:46:00.453Z\",\n",
      "        \"modified_at\": \"2020-08-26T19:46:01.167Z\"\n",
      "    },\n",
      "    \"entity\": {\n",
      "        \"runtime_environment\": \"python-3.6\",\n",
      "        \"name\": \"deployment_meta_4\",\n",
      "        \"scoring_url\": \"https://us-south.ml.cloud.ibm.com/v3/wml_instances/1e6c2c41-4acd-4997-a1c6-e65b128ff7e1/deployments/927267b5-277e-48fb-8d1d-c5221b76d27a/online\",\n",
      "        \"deployable_asset\": {\n",
      "            \"name\": \"pipeline_meta_4\",\n",
      "            \"url\": \"https://us-south.ml.cloud.ibm.com/v3/wml_instances/1e6c2c41-4acd-4997-a1c6-e65b128ff7e1/published_models/800c5213-1cc5-443d-b00b-55bbb644ff0f\",\n",
      "            \"guid\": \"800c5213-1cc5-443d-b00b-55bbb644ff0f\",\n",
      "            \"description\": \"my pipeline for submission\",\n",
      "            \"created_at\": \"2020-08-26T19:46:00.427Z\",\n",
      "            \"type\": \"model\"\n",
      "        },\n",
      "        \"description\": \"Desafio 4 MBTC\",\n",
      "        \"status_details\": {\n",
      "            \"status\": \"DEPLOY_SUCCESS\"\n",
      "        },\n",
      "        \"model_type\": \"scikit-learn-0.20\",\n",
      "        \"status\": \"DEPLOY_SUCCESS\",\n",
      "        \"type\": \"online\",\n",
      "        \"deployed_version\": {\n",
      "            \"url\": \"https://us-south.ml.cloud.ibm.com/v3/ml_assets/models/800c5213-1cc5-443d-b00b-55bbb644ff0f/versions/7049f17b-dd35-48c0-8a26-b024714b198c\",\n",
      "            \"guid\": \"7049f17b-dd35-48c0-8a26-b024714b198c\"\n",
      "        }\n",
      "    }\n",
      "}\n"
     ]
    }
   ],
   "source": [
    "# Detalles del deployment realizado\n",
    "\n",
    "deployment_details = clientWML.deployments.get_details(\n",
    "    deployment_uid=model_deployment_details[\"metadata\"][\"guid\"]  # Este es el ID de su deployment!\n",
    ")\n",
    "\n",
    "print(\"Metadatos del deployment realizado: \\n\")\n",
    "print(json.dumps(deployment_details, indent=4))"
   ]
  },
  {
   "cell_type": "markdown",
   "metadata": {},
   "source": [
    "### llamada de API "
   ]
  },
  {
   "cell_type": "code",
   "execution_count": 58,
   "metadata": {
    "scrolled": false
   },
   "outputs": [
    {
     "name": "stdout",
     "output_type": "stream",
     "text": [
      "\n",
      " Payload de datos a ser clasificado:\n",
      "{\n",
      "    \"fields\": [\n",
      "        \"EFECTIVO\",\n",
      "        \"CXC\",\n",
      "        \"INVENTARIO\",\n",
      "        \"EQ_OFICINA\",\n",
      "        \"EQ_TRANSPORTE\",\n",
      "        \"TERRENOS_Y_CONSTRUCCIONES\",\n",
      "        \"CXP\",\n",
      "        \"CONTRIBUCIONES_X_PAGAR\",\n",
      "        \"ANTICIPOS_CTE\",\n",
      "        \"CAP_SOCIAL\",\n",
      "        \"UTILIDADES_ACUMULADAS\",\n",
      "        \"UTILIDAD_O_PERDIDA\",\n",
      "        \"TOTAL_VENTAS\",\n",
      "        \"TOTAL_COMPRAS\",\n",
      "        \"UTILIDAD_BRUTA\",\n",
      "        \"TOTAL_GASTOS\"\n",
      "    ],\n",
      "    \"values\": [\n",
      "        [\n",
      "            968866.8993,\n",
      "            102102.0,\n",
      "            8539205.63,\n",
      "            3898282.548,\n",
      "            416873.3265,\n",
      "            1420050.089,\n",
      "            -629717.8548,\n",
      "            14613560.64,\n",
      "            7620711.462,\n",
      "            116647.7396,\n",
      "            1798064.624,\n",
      "            9535423.826,\n",
      "            3657339.603,\n",
      "            770284.5004,\n",
      "            -102101.201,\n",
      "            -711032.0155\n",
      "        ]\n",
      "    ]\n",
      "}\n"
     ]
    }
   ],
   "source": [
    "scoring_payload = {\n",
    "    'fields': [\n",
    "        'EFECTIVO',\n",
    "        'CXC',\n",
    "        'INVENTARIO',\n",
    "        'EQ_OFICINA',\n",
    "        'EQ_TRANSPORTE',\n",
    "        'TERRENOS_Y_CONSTRUCCIONES',\n",
    "        'CXP',\n",
    "        'CONTRIBUCIONES_X_PAGAR',\n",
    "        'ANTICIPOS_CTE',\n",
    "        'CAP_SOCIAL',\n",
    "        'UTILIDADES_ACUMULADAS',\n",
    "        'UTILIDAD_O_PERDIDA',\n",
    "        'TOTAL_VENTAS',\n",
    "        'TOTAL_COMPRAS',\n",
    "        'UTILIDAD_BRUTA',\n",
    "        'TOTAL_GASTOS',\n",
    "    ],\n",
    "    'values': [\n",
    "        [\n",
    "            968866.8993,\n",
    "            102102.000,\n",
    "            8539205.63,\n",
    "            3898282.548,\n",
    "            416873.3265,\n",
    "            1420050.089,\n",
    "            -629717.8548,\n",
    "            14613560.64,\n",
    "            7620711.462,\n",
    "            116647.7396,\n",
    "            1798064.624,\n",
    "            9535423.826,\n",
    "            3657339.603,\n",
    "            770284.5004,\n",
    "            -102101.201,\n",
    "            -711032.0155\n",
    "        ]\n",
    "    ]\n",
    "}\n",
    "\n",
    "print(\"\\n Payload de datos a ser clasificado:\")\n",
    "print(json.dumps(scoring_payload, indent=4))"
   ]
  },
  {
   "cell_type": "code",
   "execution_count": 59,
   "metadata": {},
   "outputs": [
    {
     "name": "stdout",
     "output_type": "stream",
     "text": [
      "\n",
      " Resultados:\n",
      "{\n",
      "    \"fields\": [\n",
      "        \"prediction\",\n",
      "        \"probability\"\n",
      "    ],\n",
      "    \"values\": [\n",
      "        [\n",
      "            \"Aceptado\",\n",
      "            [\n",
      "                0.99932861328125,\n",
      "                0.0006713927141390741\n",
      "            ]\n",
      "        ]\n",
      "    ]\n",
      "}\n"
     ]
    }
   ],
   "source": [
    "result = clientWML.deployments.score(\n",
    "    model_endpoint_url,\n",
    "    scoring_payload\n",
    ")\n",
    "\n",
    "print(\"\\n Resultados:\")\n",
    "print(json.dumps(result, indent=4))"
   ]
  }
 ],
 "metadata": {
  "kernelspec": {
   "display_name": "Python 3",
   "language": "python",
   "name": "python3"
  },
  "language_info": {
   "codemirror_mode": {
    "name": "ipython",
    "version": 3
   },
   "file_extension": ".py",
   "mimetype": "text/x-python",
   "name": "python",
   "nbconvert_exporter": "python",
   "pygments_lexer": "ipython3",
   "version": "3.7.3"
  }
 },
 "nbformat": 4,
 "nbformat_minor": 1
}
